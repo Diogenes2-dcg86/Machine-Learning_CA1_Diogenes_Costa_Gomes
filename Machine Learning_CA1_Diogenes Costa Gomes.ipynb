{
 "cells": [
  {
   "cell_type": "markdown",
   "id": "c6143fff-b261-49d7-97eb-88c348e54725",
   "metadata": {},
   "source": [
    "# 📘 CA1 - Machine Learning Project\n",
    "\n",
    "**Student Name:** Diogenes Costa Gomes  \n",
    "**Student Number:** 2025018  \n",
    "**Module Title:** Machine Learning  \n",
    "**Assessment Type:** Continuous Assessment 1 (CA1)  \n",
    "**Project Topic:** Forecasting Housing Growth Based on ESB Residential Connections in Ireland  \n",
    "**Institution:** CCT College Dublin  \n",
    "**Submission Date:** 18/04/2025  \n",
    "**GitHub Repository:** https://github.com/Diogenes2-dcg86/Machine-Learning_CA1_Diogenes_Costa_Gomes  \n"
   ]
  },
  {
   "cell_type": "markdown",
   "id": "b34d435d-d4b1-4a07-ba43-51d626128452",
   "metadata": {},
   "source": [
    "# Housing Growth Forecasting - ESB Connections in Ireland\n",
    "\n",
    "# Project Overview\n",
    "\n",
    "In this project, we utilize real government data, specifically the monthly ESB residential connections in Ireland (2014–present) to analyse and predict where housing will grow over time across the region. These connections are of newly built and occupied homes across counties in Ireland.\n",
    "\n",
    "# Dataset Details\n",
    "\n",
    "- **Source**: [data.gov.ie](http://data.gov.ie/dataset/esb-connections-by-area-monthly-2014-to-date)  \n",
    "- **Transformed version**: Wide format converted to long format to enable predictive analysis  \n",
    "- **Rows**: 1,155  \n",
    "- **Columns**: County, Date, Connections  \n",
    "- **License**: Open Government Licence - Ireland\n",
    "\n",
    "# Machine Learning Goal\n",
    "\n",
    "Create and compare regression models, that would estimate the new residential connections per region and period. This insight writes strong for forecasting infrastructure and housing demand.\n",
    "\n",
    "# Next Steps\n",
    "\n",
    "- Exploratory Data Analysis (EDA)\n",
    "- Model selection and training (e.g., Linear Regression vs Random Forest)\n",
    "- Hyperparameter tuning and evaluation\n",
    "\n"
   ]
  },
  {
   "cell_type": "markdown",
   "id": "53f3270e-9ed3-4ff0-bc12-db735c490a62",
   "metadata": {},
   "source": [
    "# Housing Growth Forecasting - ESB Connections in Ireland\n",
    "\n",
    "This notebook explores monthly residential electricity connections (ESB) across Irish counties from 2014 to date.\n",
    "The goal is to predict housing growth per region using machine learning models."
   ]
  },
  {
   "cell_type": "markdown",
   "id": "6ded0f5f-a459-4dd0-82be-17e812ab4640",
   "metadata": {},
   "source": [
    "# Step 1 \n",
    "\n",
    "# Title: Data Preparation - Reshaping the Raw ESB Dataset into Long Format\n",
    "\n",
    "This notebook is part of the CA1 Machine Learning Capstone Project at CCT College Dublin. The dataset contains information of individual counties in Ireland on the monthly new housing connections from 2014 onwards. However, the original dataset is in a wide format with each month as a column, which does not lend itself well to analysis techniques or machine learning models. Therefore, the first thing we must do is clean and reshape the data into a long format we can subsequently use for time based analyses, plotting and training models."
   ]
  },
  {
   "cell_type": "code",
   "execution_count": 31,
   "id": "4b60a81f-167d-4902-bbff-6859604489c5",
   "metadata": {},
   "outputs": [],
   "source": [
    "# Import necessary library\n",
    "import pandas as pd\n"
   ]
  },
  {
   "cell_type": "code",
   "execution_count": 33,
   "id": "b17de3c2-613e-45f7-a6dd-ac8a26e137aa",
   "metadata": {},
   "outputs": [],
   "source": [
    "# Step 1: Load the raw CSV file\n",
    "# header=1 is used to skip the first row which contains metadata\n",
    "df = pd.read_csv(\"esb_connections_by_area_monthly_2014_to_date.csv\", header=1)\n"
   ]
  },
  {
   "cell_type": "code",
   "execution_count": 35,
   "id": "7f47c24c-5be0-47c8-8b88-6cbc20d14c22",
   "metadata": {},
   "outputs": [],
   "source": [
    "# Step 2: Rename the first column to 'County'\n",
    "df = df.rename(columns={\"Unnamed: 0\": \"County\"})\n"
   ]
  },
  {
   "cell_type": "code",
   "execution_count": 37,
   "id": "dfae1720-7f70-436b-8bed-63acd40e82ae",
   "metadata": {},
   "outputs": [],
   "source": [
    "# Step 3: Remove the first data row containing 'County Councils', which is not a valid record\n",
    "df = df[df[\"County\"] != \"County Councils\"]\n"
   ]
  },
  {
   "cell_type": "code",
   "execution_count": 39,
   "id": "0e4abaae-3862-45e4-b55e-ddc1b96fad44",
   "metadata": {},
   "outputs": [],
   "source": [
    "# Step 4: Drop all columns that are completely empty (optional but useful cleanup)\n",
    "df = df.dropna(axis=1, how=\"all\")\n"
   ]
  },
  {
   "cell_type": "code",
   "execution_count": 41,
   "id": "5d53496e-84e7-4da9-8ec2-31b2d2262a3a",
   "metadata": {},
   "outputs": [],
   "source": [
    "# Step 5: Reshape the data to long format\n",
    "# This turns all the month-year columns into a single column ('Date') with their corresponding values ('Connections')\n",
    "df_long = df.melt(id_vars=\"County\", var_name=\"Date\", value_name=\"Connections\")\n"
   ]
  },
  {
   "cell_type": "code",
   "execution_count": 43,
   "id": "02f4f34c-2819-473f-ae52-126f16259469",
   "metadata": {},
   "outputs": [],
   "source": [
    "# Step 6: Remove any rows where 'Connections' is missing\n",
    "df_long = df_long.dropna(subset=[\"Connections\"])\n"
   ]
  },
  {
   "cell_type": "code",
   "execution_count": 45,
   "id": "ff61f407-5ac0-4628-a8b6-06c87bcda6ad",
   "metadata": {},
   "outputs": [],
   "source": [
    "# Step 7: Export the cleaned and reshaped data to a new CSV file\n",
    "df_long.to_csv(\"esb_connections_long.csv\", index=False)\n"
   ]
  },
  {
   "cell_type": "code",
   "execution_count": 55,
   "id": "75d7f26b-8682-46fa-9307-fc14007bed84",
   "metadata": {},
   "outputs": [
    {
     "data": {
      "text/plain": [
       "(1120, 3)"
      ]
     },
     "execution_count": 55,
     "metadata": {},
     "output_type": "execute_result"
    }
   ],
   "source": [
    "# Step 8: Checking number of columns and rows.\n",
    "df_long = pd.read_csv(\"esb_connections_long.csv\")\n",
    "df_long.shape"
   ]
  },
  {
   "cell_type": "code",
   "execution_count": 51,
   "id": "5f10472b-9c1d-4e8a-8759-df7005e09739",
   "metadata": {},
   "outputs": [
    {
     "data": {
      "text/html": [
       "<div>\n",
       "<style scoped>\n",
       "    .dataframe tbody tr th:only-of-type {\n",
       "        vertical-align: middle;\n",
       "    }\n",
       "\n",
       "    .dataframe tbody tr th {\n",
       "        vertical-align: top;\n",
       "    }\n",
       "\n",
       "    .dataframe thead th {\n",
       "        text-align: right;\n",
       "    }\n",
       "</style>\n",
       "<table border=\"1\" class=\"dataframe\">\n",
       "  <thead>\n",
       "    <tr style=\"text-align: right;\">\n",
       "      <th></th>\n",
       "      <th>County</th>\n",
       "      <th>Date</th>\n",
       "      <th>Connections</th>\n",
       "    </tr>\n",
       "  </thead>\n",
       "  <tbody>\n",
       "    <tr>\n",
       "      <th>0</th>\n",
       "      <td>Carlow</td>\n",
       "      <td>2014</td>\n",
       "      <td>8</td>\n",
       "    </tr>\n",
       "    <tr>\n",
       "      <th>1</th>\n",
       "      <td>Cavan</td>\n",
       "      <td>2014</td>\n",
       "      <td>18</td>\n",
       "    </tr>\n",
       "    <tr>\n",
       "      <th>2</th>\n",
       "      <td>Clare</td>\n",
       "      <td>2014</td>\n",
       "      <td>31</td>\n",
       "    </tr>\n",
       "    <tr>\n",
       "      <th>3</th>\n",
       "      <td>Cork</td>\n",
       "      <td>2014</td>\n",
       "      <td>58</td>\n",
       "    </tr>\n",
       "    <tr>\n",
       "      <th>4</th>\n",
       "      <td>Donegal</td>\n",
       "      <td>2014</td>\n",
       "      <td>29</td>\n",
       "    </tr>\n",
       "    <tr>\n",
       "      <th>5</th>\n",
       "      <td>D/L Rathdown</td>\n",
       "      <td>2014</td>\n",
       "      <td>61</td>\n",
       "    </tr>\n",
       "    <tr>\n",
       "      <th>6</th>\n",
       "      <td>Fingal</td>\n",
       "      <td>2014</td>\n",
       "      <td>36</td>\n",
       "    </tr>\n",
       "    <tr>\n",
       "      <th>7</th>\n",
       "      <td>Galway</td>\n",
       "      <td>2014</td>\n",
       "      <td>36</td>\n",
       "    </tr>\n",
       "    <tr>\n",
       "      <th>8</th>\n",
       "      <td>Kerry</td>\n",
       "      <td>2014</td>\n",
       "      <td>22</td>\n",
       "    </tr>\n",
       "    <tr>\n",
       "      <th>9</th>\n",
       "      <td>Kildare</td>\n",
       "      <td>2014</td>\n",
       "      <td>28</td>\n",
       "    </tr>\n",
       "  </tbody>\n",
       "</table>\n",
       "</div>"
      ],
      "text/plain": [
       "         County  Date Connections\n",
       "0       Carlow   2014           8\n",
       "1         Cavan  2014          18\n",
       "2         Clare  2014          31\n",
       "3          Cork  2014          58\n",
       "4       Donegal  2014          29\n",
       "5  D/L Rathdown  2014          61\n",
       "6        Fingal  2014          36\n",
       "7        Galway  2014          36\n",
       "8         Kerry  2014          22\n",
       "9       Kildare  2014          28"
      ]
     },
     "execution_count": 51,
     "metadata": {},
     "output_type": "execute_result"
    }
   ],
   "source": [
    "# Data Preparation - ESB Connections\n",
    "\n",
    "df_long.head(10)"
   ]
  },
  {
   "cell_type": "code",
   "execution_count": null,
   "id": "7c1a4944-89b6-42e4-bba0-36b60a58859e",
   "metadata": {},
   "outputs": [],
   "source": []
  }
 ],
 "metadata": {
  "kernelspec": {
   "display_name": "Python [conda env:base] *",
   "language": "python",
   "name": "conda-base-py"
  },
  "language_info": {
   "codemirror_mode": {
    "name": "ipython",
    "version": 3
   },
   "file_extension": ".py",
   "mimetype": "text/x-python",
   "name": "python",
   "nbconvert_exporter": "python",
   "pygments_lexer": "ipython3",
   "version": "3.12.7"
  }
 },
 "nbformat": 4,
 "nbformat_minor": 5
}
