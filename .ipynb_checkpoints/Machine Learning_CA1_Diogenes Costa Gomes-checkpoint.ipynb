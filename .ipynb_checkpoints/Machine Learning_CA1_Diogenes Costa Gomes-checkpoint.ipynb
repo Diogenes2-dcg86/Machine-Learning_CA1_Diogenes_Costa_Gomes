{
 "cells": [
  {
   "cell_type": "markdown",
   "id": "c6143fff-b261-49d7-97eb-88c348e54725",
   "metadata": {},
   "source": [
    "# 📘 CA1 - Machine Learning Project\n",
    "\n",
    "**Student Name:** Diogenes Costa Gomes  \n",
    "**Student Number:** 2025018  \n",
    "**Module Title:** Machine Learning  \n",
    "**Assessment Type:** Continuous Assessment 1 (CA1)  \n",
    "**Project Topic:** Forecasting Housing Growth Based on ESB Residential Connections in Ireland  \n",
    "**Institution:** CCT College Dublin  \n",
    "**Submission Date:** 18/04/2025  \n",
    "**GitHub Repository:** https://github.com/Diogenes2-dcg86/Machine-Learning_CA1_Diogenes_Costa_Gomes  \n"
   ]
  },
  {
   "cell_type": "markdown",
   "id": "b34d435d-d4b1-4a07-ba43-51d626128452",
   "metadata": {},
   "source": [
    "# Housing Growth Forecasting - ESB Connections in Ireland\n",
    "\n",
    "# Project Overview\n",
    "\n",
    "In this project, we utilize real government data, specifically the monthly ESB residential connections in Ireland (2014–present) to analyse and predict where housing will grow over time across the region. These connections are of newly built and occupied homes across counties in Ireland.\n",
    "\n",
    "# Dataset Details\n",
    "\n",
    "- **Source**: [data.gov.ie](http://data.gov.ie/dataset/esb-connections-by-area-monthly-2014-to-date)  \n",
    "- **Transformed version**: Wide format converted to long format to enable predictive analysis  \n",
    "- **Rows**: 1,155  \n",
    "- **Columns**: County, Date, Connections  \n",
    "- **License**: Open Government Licence - Ireland\n",
    "\n",
    "# Machine Learning Goal\n",
    "\n",
    "Create and compare regression models, that would estimate the new residential connections per region and period. This insight writes strong for forecasting infrastructure and housing demand.\n",
    "\n",
    "# Next Steps\n",
    "\n",
    "- Exploratory Data Analysis (EDA)\n",
    "- Model selection and training (e.g., Linear Regression vs Random Forest)\n",
    "- Hyperparameter tuning and evaluation\n",
    "\n"
   ]
  },
  {
   "cell_type": "markdown",
   "id": "53f3270e-9ed3-4ff0-bc12-db735c490a62",
   "metadata": {},
   "source": [
    "# Housing Growth Forecasting - ESB Connections in Ireland\n",
    "\n",
    "This notebook explores monthly residential electricity connections (ESB) across Irish counties from 2014 to date.\n",
    "The goal is to predict housing growth per region using machine learning models."
   ]
  },
  {
   "cell_type": "markdown",
   "id": "6ded0f5f-a459-4dd0-82be-17e812ab4640",
   "metadata": {},
   "source": [
    "# Phase 1 - Data Preparation\n",
    "\n",
    "\n",
    "## Step 1: Reshaping the ESB Dataset from a Wide format to a Long format\n",
    "\n",
    "\n",
    "\n",
    "The notebook is part of the CA1 Machine Learning Capstone Project based at CCT College Dublin which has monthly data from the counties in Ireland on new residential electricity connections dating back to 2014.\n",
    "\n",
    "\n",
    "\n",
    "At present, the dataset is structured in a wide format - whereby each month has its own column. Wide format is inefficient for analysis and machine learning applications.\n",
    "\n",
    "\n",
    "\n",
    "The first step is to clean and reshape the dataset from a wide format to a long format where each row will represent an observation of county-month connection counts. Long format is appropriate for time-based analysis, visualisation, and where predictive models will be trained."
   ]
  },
  {
   "cell_type": "code",
   "execution_count": 31,
   "id": "4b60a81f-167d-4902-bbff-6859604489c5",
   "metadata": {},
   "outputs": [],
   "source": [
    "# Import necessary library\n",
    "import pandas as pd\n"
   ]
  },
  {
   "cell_type": "code",
   "execution_count": 33,
   "id": "b17de3c2-613e-45f7-a6dd-ac8a26e137aa",
   "metadata": {},
   "outputs": [],
   "source": [
    "# Step 1: Load the raw CSV file\n",
    "# header=1 is used to skip the first row which contains metadata\n",
    "df = pd.read_csv(\"esb_connections_by_area_monthly_2014_to_date.csv\", header=1)\n"
   ]
  },
  {
   "cell_type": "code",
   "execution_count": 35,
   "id": "7f47c24c-5be0-47c8-8b88-6cbc20d14c22",
   "metadata": {},
   "outputs": [],
   "source": [
    "# Step 2: Rename the first column to 'County'\n",
    "df = df.rename(columns={\"Unnamed: 0\": \"County\"})\n"
   ]
  },
  {
   "cell_type": "code",
   "execution_count": 37,
   "id": "dfae1720-7f70-436b-8bed-63acd40e82ae",
   "metadata": {},
   "outputs": [],
   "source": [
    "# Step 3: Remove the first data row containing 'County Councils', which is not a valid record\n",
    "df = df[df[\"County\"] != \"County Councils\"]\n"
   ]
  },
  {
   "cell_type": "code",
   "execution_count": 39,
   "id": "0e4abaae-3862-45e4-b55e-ddc1b96fad44",
   "metadata": {},
   "outputs": [],
   "source": [
    "# Step 4: Drop all columns that are completely empty (optional but useful cleanup)\n",
    "df = df.dropna(axis=1, how=\"all\")\n"
   ]
  },
  {
   "cell_type": "code",
   "execution_count": 41,
   "id": "5d53496e-84e7-4da9-8ec2-31b2d2262a3a",
   "metadata": {},
   "outputs": [],
   "source": [
    "# Step 5: Reshape the data to long format\n",
    "# This turns all the month-year columns into a single column ('Date') with their corresponding values ('Connections')\n",
    "df_long = df.melt(id_vars=\"County\", var_name=\"Date\", value_name=\"Connections\")\n"
   ]
  },
  {
   "cell_type": "code",
   "execution_count": 43,
   "id": "02f4f34c-2819-473f-ae52-126f16259469",
   "metadata": {},
   "outputs": [],
   "source": [
    "# Step 6: Remove any rows where 'Connections' is missing\n",
    "df_long = df_long.dropna(subset=[\"Connections\"])\n"
   ]
  },
  {
   "cell_type": "code",
   "execution_count": 45,
   "id": "ff61f407-5ac0-4628-a8b6-06c87bcda6ad",
   "metadata": {},
   "outputs": [],
   "source": [
    "# Step 7: Export the cleaned and reshaped data to a new CSV file\n",
    "df_long.to_csv(\"esb_connections_long.csv\", index=False)\n"
   ]
  },
  {
   "cell_type": "code",
   "execution_count": 55,
   "id": "75d7f26b-8682-46fa-9307-fc14007bed84",
   "metadata": {},
   "outputs": [
    {
     "data": {
      "text/plain": [
       "(1120, 3)"
      ]
     },
     "execution_count": 55,
     "metadata": {},
     "output_type": "execute_result"
    }
   ],
   "source": [
    "# Step 8: Checking number of columns and rows.\n",
    "df_long = pd.read_csv(\"esb_connections_long.csv\")\n",
    "df_long.shape"
   ]
  },
  {
   "cell_type": "code",
   "execution_count": 51,
   "id": "5f10472b-9c1d-4e8a-8759-df7005e09739",
   "metadata": {},
   "outputs": [
    {
     "data": {
      "text/html": [
       "<div>\n",
       "<style scoped>\n",
       "    .dataframe tbody tr th:only-of-type {\n",
       "        vertical-align: middle;\n",
       "    }\n",
       "\n",
       "    .dataframe tbody tr th {\n",
       "        vertical-align: top;\n",
       "    }\n",
       "\n",
       "    .dataframe thead th {\n",
       "        text-align: right;\n",
       "    }\n",
       "</style>\n",
       "<table border=\"1\" class=\"dataframe\">\n",
       "  <thead>\n",
       "    <tr style=\"text-align: right;\">\n",
       "      <th></th>\n",
       "      <th>County</th>\n",
       "      <th>Date</th>\n",
       "      <th>Connections</th>\n",
       "    </tr>\n",
       "  </thead>\n",
       "  <tbody>\n",
       "    <tr>\n",
       "      <th>0</th>\n",
       "      <td>Carlow</td>\n",
       "      <td>2014</td>\n",
       "      <td>8</td>\n",
       "    </tr>\n",
       "    <tr>\n",
       "      <th>1</th>\n",
       "      <td>Cavan</td>\n",
       "      <td>2014</td>\n",
       "      <td>18</td>\n",
       "    </tr>\n",
       "    <tr>\n",
       "      <th>2</th>\n",
       "      <td>Clare</td>\n",
       "      <td>2014</td>\n",
       "      <td>31</td>\n",
       "    </tr>\n",
       "    <tr>\n",
       "      <th>3</th>\n",
       "      <td>Cork</td>\n",
       "      <td>2014</td>\n",
       "      <td>58</td>\n",
       "    </tr>\n",
       "    <tr>\n",
       "      <th>4</th>\n",
       "      <td>Donegal</td>\n",
       "      <td>2014</td>\n",
       "      <td>29</td>\n",
       "    </tr>\n",
       "    <tr>\n",
       "      <th>5</th>\n",
       "      <td>D/L Rathdown</td>\n",
       "      <td>2014</td>\n",
       "      <td>61</td>\n",
       "    </tr>\n",
       "    <tr>\n",
       "      <th>6</th>\n",
       "      <td>Fingal</td>\n",
       "      <td>2014</td>\n",
       "      <td>36</td>\n",
       "    </tr>\n",
       "    <tr>\n",
       "      <th>7</th>\n",
       "      <td>Galway</td>\n",
       "      <td>2014</td>\n",
       "      <td>36</td>\n",
       "    </tr>\n",
       "    <tr>\n",
       "      <th>8</th>\n",
       "      <td>Kerry</td>\n",
       "      <td>2014</td>\n",
       "      <td>22</td>\n",
       "    </tr>\n",
       "    <tr>\n",
       "      <th>9</th>\n",
       "      <td>Kildare</td>\n",
       "      <td>2014</td>\n",
       "      <td>28</td>\n",
       "    </tr>\n",
       "  </tbody>\n",
       "</table>\n",
       "</div>"
      ],
      "text/plain": [
       "         County  Date Connections\n",
       "0       Carlow   2014           8\n",
       "1         Cavan  2014          18\n",
       "2         Clare  2014          31\n",
       "3          Cork  2014          58\n",
       "4       Donegal  2014          29\n",
       "5  D/L Rathdown  2014          61\n",
       "6        Fingal  2014          36\n",
       "7        Galway  2014          36\n",
       "8         Kerry  2014          22\n",
       "9       Kildare  2014          28"
      ]
     },
     "execution_count": 51,
     "metadata": {},
     "output_type": "execute_result"
    }
   ],
   "source": [
    "# Data Preparation - ESB Connections\n",
    "\n",
    "df_long.head(10)"
   ]
  },
  {
   "cell_type": "markdown",
   "id": "c5effd25-199c-4a32-9213-6489fe429e2d",
   "metadata": {},
   "source": [
    "# Exploratory Data Analysis (EDA) – Final Part of Phase 1: Data Preparation\n",
    "\n",
    "\n",
    "To extract informative and compelling feature(s) and pattern(s) to assist with the goal of this project - predicting housing growth - we will conduct an Exploratory Data Analysis (EDA) of the data. The exploration of the data is an important process to understand the structure, quality, and behavior of the data before developing predictive models, making exploratory data analysis (EDA) especially beneficial for this project.\n",
    "\n",
    "Anomaly Detection and Time Series - EDA sets the foundation for anomaly detection, missing value identification, outlier and trend identification over time. EDA will also demonstrate how electricity connections - a proxy for new residential housing units in this project - differ from Irish county to Irish county and from moment to moment in time.\n",
    "\n",
    "According to Tukey (1977), exploratory data analysis (EDA) is much more than fundamental and preliminary. It is an essential data analysis process that can shape how we interpret and build data models. EDA helps create hypotheses, test assumptions, and help or guide decisions about which features to engineer or remove, etc.\n",
    "\n",
    "Contrary to jumping right to the end modelling phase of the data analysis, EDA is a helpful first step in the data analysis process, leading to more thorough, rigorous, and robust results than those from the misinterpretation of the data. It also follows best practices in data science workflows (Kelleher et al., 2015).\n",
    "\n",
    "In this section, we will be including:\n",
    "\n",
    "- Look for missing data and datatypes.\n",
    "\n",
    "- Generate additional features like month and year.\n",
    "\n",
    "- Investigate the trend of connections by county and over time.\n",
    "\n",
    "- Visualize the distribution of new housing connections.\n",
    "\n",
    "In doing so we will clean the data, structure the data, and have a basis for interpretation of the data prior to moving into Machine Learning."
   ]
  },
  {
   "cell_type": "markdown",
   "id": "fde44db7-e790-45a2-bd20-bc961f855d07",
   "metadata": {},
   "source": [
    "## Step 1: Understanding the structure of the dataset and some basic statistics\n",
    "\n",
    "Before this deeper visual exploration lets us understand the overall structure and the characteristics of the data. This also involves analyzing the number of entries and types of columns as well as descriptive statistics for the Connections variable, which is our targeted variable to analyze housing growth."
   ]
  },
  {
   "cell_type": "code",
   "execution_count": 63,
   "id": "4d6f63f1-5719-445d-8763-0e2ccb9afe8a",
   "metadata": {},
   "outputs": [
    {
     "name": "stdout",
     "output_type": "stream",
     "text": [
      "<class 'pandas.core.frame.DataFrame'>\n",
      "RangeIndex: 1120 entries, 0 to 1119\n",
      "Data columns (total 3 columns):\n",
      " #   Column       Non-Null Count  Dtype \n",
      "---  ------       --------------  ----- \n",
      " 0   County       1120 non-null   object\n",
      " 1   Date         1120 non-null   object\n",
      " 2   Connections  1120 non-null   object\n",
      "dtypes: object(3)\n",
      "memory usage: 26.4+ KB\n"
     ]
    },
    {
     "data": {
      "text/plain": [
       "count     1120\n",
       "unique     233\n",
       "top         16\n",
       "freq        46\n",
       "Name: Connections, dtype: object"
      ]
     },
     "execution_count": 63,
     "metadata": {},
     "output_type": "execute_result"
    }
   ],
   "source": [
    "# Step 1: Overview of the dataset\n",
    "df_long.info()\n",
    "\n",
    "# Summary statistics of the numeric column\n",
    "df_long[\"Connections\"].describe()\n"
   ]
  },
  {
   "cell_type": "markdown",
   "id": "a78ff69f-f265-46fa-b501-7643d736403b",
   "metadata": {},
   "source": [
    "## Step 1 Output – Data Types and Summary\n",
    "\n",
    "In our review of the dataset with dflong.info() and dflong[\"Connections\"].describe() we also observed one important problem: the Connections column is stored as an object rather than as a numeric type.\n",
    "\n",
    "This implies the values are being interpreted as strings, and we will not be able to correctly perform the statistics or visualize the dataset with accuracy. In addition, the summary showed:\n",
    "\n",
    "Total entries: 1120\n",
    "\n",
    "Unique values: 233\n",
    "\n",
    "The most common value is \"16\" (which appeared a total of 46 times)\n",
    "\n",
    "From this and the summary, we observed that it is likely to be some numeric representation, being represented as text, and perhaps as a result of some formatting problem (i.e., stray characters, spaces, etc.)."
   ]
  },
  {
   "cell_type": "markdown",
   "id": "5d4b1285-ffd8-4e91-b668-cde6385fa7cb",
   "metadata": {},
   "source": [
    "## Step 2: Data Cleaning – Turning Connections into Numerics\n",
    "\n",
    "At this step, we noticed a structural flaw in our dataset: the Connections column was saved as an object (string), which doesn’t allow us to perform any numeric calculations. This is probably because it came from a CSV file, which will read everything as text when it’s first loaded, since this data hasn’t been parsed.\n",
    "\n",
    "Therefore, nonsensical operations that have precise numeric types would occur. If I try to perform a statistical operation or create a visualization using a string, based on a number, it will generate errors or, at best, nonsensical output. For example, a string “1000” is not the same as an integer 1000 in Python, and if I try to sort or aggregate this data incorrectly, it will result in garbage.\n",
    "\n",
    "We need to convert the column:\n",
    "\n",
    "- Convert the column using pd. to_numeric(), to use real numeric values\n",
    "\n",
    "- Set errors=\"coerce\", so that any data that cannot be converted automatically returns NaN.\n",
    "\n",
    "- Remove incorrect or empty row indices.\n",
    "\n",
    "- Finally, we force-convert the cleared column to an integer, as needed for consistency.\n",
    "\n",
    "This is an important step before we proceed with any statistical analysis or modeling."
   ]
  },
  {
   "cell_type": "code",
   "execution_count": 67,
   "id": "7f2f2353-3ad5-4d96-b393-e479f5dc9ac5",
   "metadata": {},
   "outputs": [
    {
     "name": "stdout",
     "output_type": "stream",
     "text": [
      "<class 'pandas.core.frame.DataFrame'>\n",
      "Index: 1095 entries, 0 to 1118\n",
      "Data columns (total 3 columns):\n",
      " #   Column       Non-Null Count  Dtype \n",
      "---  ------       --------------  ----- \n",
      " 0   County       1095 non-null   object\n",
      " 1   Date         1095 non-null   object\n",
      " 2   Connections  1095 non-null   int64 \n",
      "dtypes: int64(1), object(2)\n",
      "memory usage: 34.2+ KB\n"
     ]
    }
   ],
   "source": [
    "# Convert the 'Connections' column to numeric, converting errors to NaN\n",
    "df_long[\"Connections\"] = pd.to_numeric(df_long[\"Connections\"], errors=\"coerce\")\n",
    "\n",
    "# Delete rows where 'Connections' could not be converted (NaN values)\n",
    "df_long = df_long.dropna(subset=[\"Connections\"])\n",
    "\n",
    "# Confirm the conversion\n",
    "df_long[\"Connections\"] = df_long[\"Connections\"].astype(int)\n",
    "\n",
    "# Check the updated data types\n",
    "df_long.info()"
   ]
  },
  {
   "cell_type": "markdown",
   "id": "b8eeda26-bd31-4557-9ba6-596481b2cf62",
   "metadata": {},
   "source": [
    "## Step 2 Output - Adjusted Dataset\n",
    "\n",
    "We have successfully transformed the Connections column into a number and removed invalid records. We now have **1,095 valid rows** and 3 columns.\n",
    "\n",
    "- Connections are now represented as an int64, which means we can work with them feasibly.\n",
    "\n",
    "- We have no missing values in the dataset.\n",
    "\n",
    "The dataset is now much cleaner and more reliable for visualizations and modeling.\n",
    "\n",
    "This cleaning process helps ensure that all statistical and machine learning activities are based on valid input data, reducing the risk of biased outputs and other potential runtime errors."
   ]
  },
  {
   "cell_type": "markdown",
   "id": "8fe9a85a-a2cc-4b20-8afe-f150bf8a482f",
   "metadata": {},
   "source": [
    "## Justification to Turn Date to Datetime\n",
    "\n",
    "Currently, the Date column is represented by an object (string); and, this is not optimal for time series analysis, or, any analysis of temporal aggregations.\n",
    "\n",
    "Once we start to convert that to datetime, we will have critical features:\n",
    "\n",
    "Sort in chronological order.\n",
    "\n",
    "Group by year, month, or quarter to identify seasonal trends.\n",
    "\n",
    "Build lag features, or rolling averages (used for forecasting).\n",
    "\n",
    "Plot for time based visualizations using time series plots.\n",
    "\n",
    "Thus, this step is necessary for obtaining **temporal insights** from our data as our project is centered on **forecasting housing development trends (patterns) over time**."
   ]
  },
  {
   "cell_type": "markdown",
   "id": "5e5e4705-fb29-40c8-8deb-4f6dfc9e0482",
   "metadata": {},
   "source": [
    "## Step 3: Descriptive Statistics and Visualization of Distribution\n",
    "\n",
    "This step This step will help examine the spread and distribution of the Connections variable. Descriptive statistics provides information about central tendency and dispersion, and the histogram depicts the distribution of the connection values.\n",
    "\n",
    "The information achieved in this step provides patterns of interest: does most of the data suggest that regions have received a small, moderate, or high number of new connections? Is there a pattern or outlier that is interesting?\n",
    "\n",
    "The KDE curve overlaid on the histogram also provides a smoothed version of the distribution shape, and is beneficial in visualizing the distribution shape."
   ]
  },
  {
   "cell_type": "code",
   "execution_count": 73,
   "id": "29de2777-f204-489b-af1b-232b9ccba72b",
   "metadata": {},
   "outputs": [
    {
     "data": {
      "text/plain": [
       "count    1095.000000\n",
       "mean       66.736073\n",
       "std       135.392390\n",
       "min         0.000000\n",
       "25%        16.000000\n",
       "50%        28.000000\n",
       "75%        51.000000\n",
       "max       998.000000\n",
       "Name: Connections, dtype: float64"
      ]
     },
     "execution_count": 73,
     "metadata": {},
     "output_type": "execute_result"
    }
   ],
   "source": [
    "# Step 3: Descriptive statistics\n",
    "df_long[\"Connections\"].describe()"
   ]
  },
  {
   "cell_type": "code",
   "execution_count": 83,
   "id": "3c80e94c-8cff-4420-9278-d6ccf139b422",
   "metadata": {},
   "outputs": [
    {
     "data": {
      "image/png": "[encoded data removed]",
      "text/plain": [
       "<Figure size 1000x600 with 1 Axes>"
      ]
     },
     "metadata": {},
     "output_type": "display_data"
    }
   ],
   "source": [
    "# Step 3: Visual distribution of connection values\n",
    "\n",
    "import seaborn as sns\n",
    "import matplotlib.pyplot as plt\n",
    "\n",
    "plt.figure(figsize=(10,6))\n",
    "sns.histplot(df_long[\"Connections\"], bins=30, kde=True)\n",
    "plt.title(\"Distribution of ESB Connections\")\n",
    "plt.xlabel(\"Connections\")\n",
    "plt.ylabel(\"Frequency\")\n",
    "plt.grid(True)\n",
    "plt.show()\n"
   ]
  },
  {
   "cell_type": "markdown",
   "id": "cf37f904-00f3-48da-bb9f-996e4b1f79af",
   "metadata": {},
   "source": [
    "##  Composition of Step 3 Output – Summary Statistics for Connections\n",
    "\n",
    "The Connection's descriptive statistics are:\n",
    "\n",
    "**Count:** 1,095 total observations with valid data\n",
    "\n",
    "**Mean:** ~66. 7 connections per row\n",
    "\n",
    "**Standard Deviation:** 135. 4 – shows high variability\n",
    "\n",
    "**Minimum:** 0 connections\n",
    "\n",
    "**Median (50%):** 28 connections – which is lower than the average, indicating it is likely right-skewed\n",
    "\n",
    "**Maximum:** 998 connections for one row\n",
    "\n",
    "The means suggest that while there were a wide range of connection values, mostly lower, there are a number of very high connection observations (e. g. , 998) and they will likely effect the mean. And, of course, the median (28) is much lower than the average (66. 7) which is a sign of classic skewness.\n",
    "\n",
    "The below histogram figure will help confirm the shape of the distribution."
   ]
  },
  {
   "cell_type": "markdown",
   "id": "c189b3b7-dfb9-48be-9bff-50e8fa888bd6",
   "metadata": {},
   "source": [
    "## Step 4 – Visualise Monthly Trends in ESB Connections\n",
    "\n",
    "The below line chart shows the total amount of ESB residential connections by month across all counties. This visualisation provides a view of the overall trends and fluctuations of housing activity.\n",
    "\n",
    "While there is some general pattern of consistently reflected levels of connections overall, there are some months with very pronounced spikes, perhaps denoting large amounts of housing activity or large housing developments. Some of these might correspond with project timelines, some could be seasonal, others might correspond with government housing initiatives.\n",
    "\n",
    "This time-based entry will be important to consider as you model the future, and to be able to note when and where a new equipment will be available for housing. It also helps to identify instances that might require additional consideration of outliers at specific steps later on."
   ]
  },
  {
   "cell_type": "code",
   "execution_count": 85,
   "id": "1b3513cf-243f-4134-8477-9cf592127cee",
   "metadata": {},
   "outputs": [
    {
     "data": {
      "image/png": "[encoded data removed]",
      "text/plain": [
       "<Figure size 1200x600 with 1 Axes>"
      ]
     },
     "metadata": {},
     "output_type": "display_data"
    }
   ],
   "source": [
    "# Step 4 - Analyze Monthly Trends in ESB Connections\n",
    "monthly_trend = df_long.groupby('Date')['Connections'].sum()\n",
    "\n",
    "plt.figure(figsize=(12, 6))\n",
    "monthly_trend.plot()\n",
    "plt.title('Monthly Total ESB Connections Over Time')\n",
    "plt.xlabel('Date')\n",
    "plt.ylabel('Total Connections')\n",
    "plt.xticks(rotation=45)\n",
    "plt.tight_layout()\n",
    "plt.show()\n"
   ]
  },
  {
   "cell_type": "markdown",
   "id": "581ea1a3-8f7b-427c-a737-98239482563a",
   "metadata": {},
   "source": [
    "## End of Phase 1 – Data Preparation Completed\n",
    "\n",
    "The dataset has been cleaned, reshaped, and explored. This process involves identifying data types, removing inconsistencies, transforming data into usable formats, and visualizing distributions and outliers.\n",
    "\n",
    "We are now ready for​ **Phase 2 - Feature Engineering**. In Phase 2 we will extract features that relate to time and get the dataset ready for predictive modeling."
   ]
  },
  {
   "cell_type": "code",
   "execution_count": 98,
   "id": "219264d2-b225-415e-89c2-cb23fbcc100b",
   "metadata": {},
   "outputs": [],
   "source": [
    "# Commit for Phase 1 complete"
   ]
  },
  {
   "cell_type": "code",
   "execution_count": null,
   "id": "76ba3596-1ccd-4892-8f73-7f87e5c881cb",
   "metadata": {},
   "outputs": [],
   "source": []
  }
 ],
 "metadata": {
  "kernelspec": {
   "display_name": "Python [conda env:base] *",
   "language": "python",
   "name": "conda-base-py"
  },
  "language_info": {
   "codemirror_mode": {
    "name": "ipython",
    "version": 3
   },
   "file_extension": ".py",
   "mimetype": "text/x-python",
   "name": "python",
   "nbconvert_exporter": "python",
   "pygments_lexer": "ipython3",
   "version": "3.12.7"
  }
 },
 "nbformat": 4,
 "nbformat_minor": 5
}
